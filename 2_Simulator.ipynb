{
 "cells": [
  {
   "cell_type": "markdown",
   "metadata": {},
   "source": [
    "# Cricket Simulator\n",
    "1. Database search & get data\n",
    "2. EDA\n",
    "3. EDA Plots\n",
    "4. Simulator for scores"
   ]
  },
  {
   "cell_type": "code",
   "execution_count": 3,
   "metadata": {},
   "outputs": [],
   "source": [
    "import numpy as np\n",
    "import pandas as pd\n",
    "\n",
    "import matplotlib.pyplot as plt\n",
    "\n",
    "%matplotlib inline"
   ]
  },
  {
   "cell_type": "code",
   "execution_count": 4,
   "metadata": {},
   "outputs": [],
   "source": [
    "from IPython.core.interactiveshell import InteractiveShell\n",
    "InteractiveShell.ast_node_interactivity = \"all\""
   ]
  },
  {
   "cell_type": "markdown",
   "metadata": {},
   "source": [
    "# Global Variables & functions"
   ]
  },
  {
   "cell_type": "code",
   "execution_count": 5,
   "metadata": {},
   "outputs": [],
   "source": [
    "p_names = {\n",
    "    'ind': {\n",
    "        'bt': ['ggambhir', 'vsehwag', 'rsharma', 'klrahul', 'vkohli', 'arahane', 'stendulkar', 'rdravid', 'sganguly'], \n",
    "        'wk': ['dhoni', 'dkartik', 'rpant'], 'all': ['hpandya', 'rjadeja', 'kpandya', 'ysingh'], \n",
    "        'bl': ['bkumar', 'rashwin', 'mdshami', 'bumrah', 'akumble', 'hsingh', 'isharma', 'zkhan', 'anehra']\n",
    "    }, \n",
    "           \n",
    "    'aus': {\n",
    "        'bt': ['mhayden', 'rponting', 'mhussey', 'jlanger', 'ssmith'], \n",
    "        'wk': ['agilchrist'], 'all': ['mclarke', 'asymonds', 'abitchell'], \n",
    "        'bl': ['swarne', 'mstark', 'blee', 'gmcgrath']\n",
    "    }, \n",
    "    \n",
    "    'saf': {\n",
    "        'bt': ['gkirsten', 'bdipenner', 'abdevilliers', 'hgibbs', 'jfaulkner', 'gsmith'], \n",
    "        'wk': ['mboucher'], 'all': ['spollock', 'kallis', 'lklusener'], \n",
    "        'bl': ['adonald', 'mntini', 'dsteyn', 'nboye']\n",
    "    }, \n",
    "    \n",
    "    'win': {\n",
    "        'bt': ['cgayle', 'whinds', 'blara', 'schanderpaul', 'dsammy'], \n",
    "        'wk': ['npooran', 'dramdin'], 'all': ['pollard', 'dbravo', 'arussell', 'cbrathwaite'], \n",
    "        'bl': ['snarine', 'kroach', 'jholder', 'mdjason', 'ahosein']\n",
    "    }, \n",
    "    \n",
    "    'sri': {\n",
    "        'bt': ['matapattu', 'mjayavardene', 'aranatunga', 'tdilshan', 'mahanama'], \n",
    "        'wk': ['sangakara', 'kaluwithrana'], 'all': ['sjayasuriya', 'adesilva'], \n",
    "        'bl': ['cvaas', 'mmurali', 'dfernando', 'yokumar', 'amendis']\n",
    "    }\n",
    "          }"
   ]
  },
  {
   "cell_type": "code",
   "execution_count": 6,
   "metadata": {},
   "outputs": [],
   "source": [
    "def reset_wkts_proba(p_skill = 'bl'):\n",
    "    temp_proba = {\n",
    "        0: 0.96, 1: 0.04} if p_skill=='bl' else {\n",
    "        0: 0.991, 1: 0.009} if p_skill=='all' else {\n",
    "        0: 0.9991, 1: 0.0009} if p_skill == 'bt' else {\n",
    "        0: 0.9999, 1: 0.0001}\n",
    "    dict_sum = pd.Series(list(temp_proba.values())).sum()\n",
    "    return {k: v/dict_sum for k, v in list(temp_proba.items())}  # normalize so sum of proba = 1"
   ]
  },
  {
   "cell_type": "code",
   "execution_count": 7,
   "metadata": {},
   "outputs": [],
   "source": [
    "def reset_runs_proba(p_skill = 'bt'):\n",
    "    temp_proba = {\n",
    "    0: 0.55, 1: 0.25, 2: 0.1, 3: 0.005, 4: 0.1, 5: 0.001, 6: 0.05} if p_skill=='bt' else {\n",
    "    0: 0.65, 1: 0.22, 2: 0.1, 3: 0.005, 4: 0.1, 5: 0.001, 6: 0.10} if p_skill=='all' else {\n",
    "    0: 0.70, 1: 0.20, 2: 0.1, 3: 0.005, 4: 0.15, 5: 0.001, 6: 0.15} if p_skill == 'wk' else {\n",
    "    0: 0.80, 1: 0.1, 2: 0.1, 3: 0.005, 4: 0.1, 5: 0.001, 6: 0.15}\n",
    "    dict_sum = pd.Series(list(temp_proba.values())).sum()\n",
    "    return {k: v/dict_sum for k, v in list(temp_proba.items())}  # normalize so sum of proba = 1"
   ]
  },
  {
   "cell_type": "code",
   "execution_count": 8,
   "metadata": {},
   "outputs": [],
   "source": [
    "def reset_team_compos(team_name):\n",
    "    compos_dict = {\n",
    "        'ind': {'bt': 5, 'wk': 1, 'all': 2, 'bl': 3}, \n",
    "        'aus': {'bt': 4, 'wk': 1, 'all': 3, 'bl': 3}, \n",
    "        'saf': {'bt': 4, 'wk': 1, 'all': 2, 'bl': 4},\n",
    "        'win': {'bt': 4, 'wk': 1, 'all': 2, 'bl': 4},\n",
    "        'sri': {'bt': 3, 'wk': 2, 'all': 2, 'bl': 4}\n",
    "    }\n",
    "\n",
    "    return compos_dict[team_name]"
   ]
  },
  {
   "cell_type": "code",
   "execution_count": null,
   "metadata": {},
   "outputs": [],
   "source": []
  },
  {
   "cell_type": "markdown",
   "metadata": {},
   "source": [
    "# Class Definitions"
   ]
  },
  {
   "cell_type": "markdown",
   "metadata": {},
   "source": [
    "### Player Class "
   ]
  },
  {
   "cell_type": "code",
   "execution_count": 72,
   "metadata": {},
   "outputs": [],
   "source": [
    "class Player(object):\n",
    "    '''\n",
    "    Class of Player object\n",
    "    Attributes like player name, matches played, runs, wickets, wins, etc. \n",
    "    will be part of this class\n",
    "    '''\n",
    "    \n",
    "    def __init__(self, p_name, team_name):\n",
    "        self.p_name = p_name\n",
    "        self.team_name = team_name\n",
    "        self.p_skill = self.getSkill()  # batsman, bowler, wk\n",
    "        self.m_played = 0\n",
    "        self.bt_runs = 0\n",
    "        self.bt_balls = 0\n",
    "        self.bl_wkts = 0\n",
    "        self.bl_runs = 0\n",
    "        self.bl_balls = 0\n",
    "        self.m_wins = 0\n",
    "        self.runs_proba = reset_runs_proba(self.p_skill)\n",
    "        self.wkts_proba = reset_wkts_proba(self.p_skill)\n",
    "    \n",
    "    \n",
    "    def getSkill(self):\n",
    "        key_list = list(p_names[self.team_name].keys())\n",
    "        val_list = list(p_names[self.team_name].values())\n",
    "        return [k for k, v_l in zip(key_list, val_list) for v in v_l if v==pl][0]\n",
    "    \n",
    "    \n",
    "    def updateRunProba(self, run_in_ball):\n",
    "        '''\n",
    "        probability at which player scores runs\n",
    "        default: reset_runs_proba(p_skill)\n",
    "        '''\n",
    "        for k, v in list(self.runs_proba.items()):\n",
    "            if k == run_in_ball:\n",
    "                if run_in_ball == 0:\n",
    "                    self.runs_proba[k] = v*1.05\n",
    "                else:\n",
    "                    self.runs_proba[k] = v*1.2\n",
    "            elif k > run_in_ball:\n",
    "                self.runs_proba[k] = v*1.01\n",
    "            else:\n",
    "                self.runs_proba[k] = v\n",
    "        \n",
    "        dict_sum = pd.Series(list(self.runs_proba.values())).sum()\n",
    "        return {k: v/dict_sum for k, v in list(self.runs_proba.items())}  # normalize so sum of proba = 1\n",
    "    \n",
    "    \n",
    "    def simulateScore(self, wkts, balls, runs_proba, wkts_proba):\n",
    "        '''\n",
    "        simulate run score for this ball\n",
    "        '''\n",
    "        self.bt_balls += 1\n",
    "        wkts_in_ball = np.random.choice(a = list(self.wkts_proba.keys()), p = pd.Series(list(self.wkts_proba.values())))\n",
    "\n",
    "        if wkts_in_ball:\n",
    "            run_in_ball = -1\n",
    "        else: \n",
    "            run_in_ball = np.random.choice(a = list(self.runs_proba.keys()), p = pd.Series(list(self.runs_proba.values())))\n",
    "            self.bt_runs += run_in_ball\n",
    "\n",
    "            # runs proba updated as per run scored in prev ball\n",
    "            self.runs_proba = self.updateRunProba(run_in_ball)\n",
    "\n",
    "        return run_in_ball"
   ]
  },
  {
   "cell_type": "markdown",
   "metadata": {},
   "source": [
    "### Team Class"
   ]
  },
  {
   "cell_type": "code",
   "execution_count": 73,
   "metadata": {},
   "outputs": [],
   "source": [
    "class Team(Player):\n",
    "    '''\n",
    "    Class of Team object\n",
    "    Attributes like team name, matches played, wins, etc. \n",
    "    will be part of this class\n",
    "    '''\n",
    "    \n",
    "    def __init__(self, team_name):\n",
    "        self.team_name = team_name\n",
    "        self.m_played = 0\n",
    "        self.m_wins = 0\n",
    "        self.team_compos = reset_team_compos(team_name)\n",
    "        self.players = self.generate_team()\n",
    "        \n",
    "        \n",
    "    def generate_team(self):\n",
    "        self.curr_team_d = {skill: list(np.random.choice(p_names[self.team_name][skill], \n",
    "                                                  self.team_compos[skill], \n",
    "                                                  replace = False))\n",
    "                     for skill in ['bt', 'wk', 'all', 'bl']}\n",
    "\n",
    "        curr_team = [p for sk in list(self.curr_team_d.keys()) for p in self.curr_team_d[sk]]\n",
    "    \n",
    "        return curr_team\n",
    "    \n",
    "    \n",
    "    def update_team_comp(self, sk_bt = None, sk_wk = None, sk_all = None, sk_bl = None):\n",
    "        \n",
    "        if sk_bt != None:\n",
    "            sk_bt = self.team_compos['bt']\n",
    "        if sk_wk != None:\n",
    "            sk_wk = self.team_compos['wk']\n",
    "        if sk_all != None:\n",
    "            sk_all = self.team_compos['all']\n",
    "        if sk_bl != None:\n",
    "            sk_bl = self.team_compos['bl']\n",
    "        \n",
    "        # check for sum = 11\n",
    "        pl_in_team = sk_bt + sk_wk + sk_all + sk_bl\n",
    "        if pl_in_team != 11:\n",
    "            print(f\"Count of players NOT equal to 11\")\n",
    "        else:\n",
    "            self.team_compos['bt'] = sk_bt\n",
    "            self.team_compos['wk'] = sk_wk\n",
    "            self.team_compos['all'] = sk_all\n",
    "            self.team_compos['bl'] = sk_bl\n",
    "            \n",
    "            # regenerate team with new comp only if update is correct\n",
    "            self.players = self.generate_team()  \n",
    "    "
   ]
  },
  {
   "cell_type": "markdown",
   "metadata": {},
   "source": [
    "### Innings Class"
   ]
  },
  {
   "cell_type": "code",
   "execution_count": 74,
   "metadata": {},
   "outputs": [],
   "source": [
    "class Innings(Team):\n",
    "    '''\n",
    "    Class of Innings object\n",
    "    Attributes like runs scored, wickets taken, etc. \n",
    "    will be part of this class\n",
    "    '''\n",
    "    \n",
    "    def __init__(self, bt_team):\n",
    "        \n",
    "        self.bt_team = bt_team\n",
    "#         self.bl_team = self.second_bt_team if innings==1 else self.first_bt_team\n",
    "        # batting stats\n",
    "        self.runs = 0\n",
    "        self.fours = 0\n",
    "        self.sixes = 0\n",
    "        self.boundary = 0\n",
    "        # bowling stats\n",
    "        self.wkts = 0\n",
    "        self.wide = 0\n",
    "        self.noball = 0\n",
    "        self.bye = 0\n",
    "        self.lbye = 0\n",
    "        self.team_list = self.getPlayerList(bt_team)\n",
    "    \n",
    "    \n",
    "    def getPlayerList(self, bt_team):\n",
    "        bt_team_o = Team(bt_team)\n",
    "        return bt_team_o.generate_team()\n",
    "        \n",
    "        \n",
    "    def checkBatter(self):\n",
    "        '''\n",
    "        who is batting this ball\n",
    "        & what is his skill\n",
    "        '''\n",
    "        self.batter = self.team_list[self.wkts]\n",
    "        return self.batter\n",
    "    \n",
    "            \n",
    "    def simulateBall(self):\n",
    "        '''\n",
    "        pass\n",
    "        '''\n",
    "        pass"
   ]
  },
  {
   "cell_type": "markdown",
   "metadata": {},
   "source": [
    "### Match Class"
   ]
  },
  {
   "cell_type": "code",
   "execution_count": 75,
   "metadata": {},
   "outputs": [],
   "source": [
    "class Match(Innings):\n",
    "    '''\n",
    "    Class of Match object\n",
    "    Attributes like teams playing, runs scored, wickets taken, etc. \n",
    "    will be part of this class\n",
    "    '''\n",
    "    match_cnt = 0\n",
    "    \n",
    "    def __init__(self, team1, team2):\n",
    "        Match.match_cnt += 1\n",
    "        self.match_id = Match.match_cnt  # id for a match\n",
    "        self.teams = [team1, team2]\n",
    "        choice1 = np.random.choice(self.teams, 1)\n",
    "        choice2 = list(set(self.teams).difference(set(choice1)))\n",
    "        self.first_bt_team = choice1[0]\n",
    "        self.second_bt_team = choice2[0]\n",
    "        self.team_list = {tn: Team(tn) for tn in self.teams}\n",
    "    \n",
    "    \n",
    "    def initiateInnings(self):\n",
    "        self.inn = {}\n",
    "        for i in range(1, 3):\n",
    "            self.inn[i] = Innings(self.first_bt_team) if i == 1 else Innings(self.second_bt_team)\n",
    "    "
   ]
  },
  {
   "cell_type": "code",
   "execution_count": null,
   "metadata": {},
   "outputs": [],
   "source": []
  },
  {
   "cell_type": "code",
   "execution_count": null,
   "metadata": {},
   "outputs": [],
   "source": []
  },
  {
   "cell_type": "code",
   "execution_count": null,
   "metadata": {},
   "outputs": [],
   "source": []
  },
  {
   "cell_type": "markdown",
   "metadata": {},
   "source": [
    "# Initialize Match / Innings"
   ]
  },
  {
   "cell_type": "code",
   "execution_count": 76,
   "metadata": {
    "scrolled": true
   },
   "outputs": [
    {
     "data": {
      "text/plain": [
       "['ind', 'aus', 'saf', 'win', 'sri']"
      ]
     },
     "execution_count": 76,
     "metadata": {},
     "output_type": "execute_result"
    },
    {
     "data": {
      "text/plain": [
       "array(['aus', 'ind'], dtype='<U3')"
      ]
     },
     "execution_count": 76,
     "metadata": {},
     "output_type": "execute_result"
    },
    {
     "data": {
      "text/plain": [
       "1"
      ]
     },
     "execution_count": 76,
     "metadata": {},
     "output_type": "execute_result"
    },
    {
     "data": {
      "text/plain": [
       "['aus', 'ind']"
      ]
     },
     "execution_count": 76,
     "metadata": {},
     "output_type": "execute_result"
    },
    {
     "data": {
      "text/plain": [
       "'aus'"
      ]
     },
     "execution_count": 76,
     "metadata": {},
     "output_type": "execute_result"
    },
    {
     "data": {
      "text/plain": [
       "'ind'"
      ]
     },
     "execution_count": 76,
     "metadata": {},
     "output_type": "execute_result"
    }
   ],
   "source": [
    "all_teams = list(p_names.keys())\n",
    "all_teams\n",
    "teams = np.random.choice(all_teams, size = 2, replace = False)\n",
    "teams\n",
    "match = Match(team1 = teams[0], team2 = teams[1])\n",
    "\n",
    "match.match_cnt\n",
    "match.teams\n",
    "match.first_bt_team\n",
    "match.second_bt_team"
   ]
  },
  {
   "cell_type": "code",
   "execution_count": null,
   "metadata": {},
   "outputs": [],
   "source": []
  },
  {
   "cell_type": "code",
   "execution_count": 77,
   "metadata": {},
   "outputs": [],
   "source": [
    "inn = match.initiateInnings()"
   ]
  },
  {
   "cell_type": "code",
   "execution_count": 78,
   "metadata": {},
   "outputs": [
    {
     "data": {
      "text/plain": [
       "dict_keys([1, 2])"
      ]
     },
     "execution_count": 78,
     "metadata": {},
     "output_type": "execute_result"
    },
    {
     "data": {
      "text/plain": [
       "'aus'"
      ]
     },
     "execution_count": 78,
     "metadata": {},
     "output_type": "execute_result"
    }
   ],
   "source": [
    "match.inn.keys()\n",
    "match.inn[1].bt_team\n",
    "# match.inn[1]."
   ]
  },
  {
   "cell_type": "code",
   "execution_count": 79,
   "metadata": {},
   "outputs": [
    {
     "data": {
      "text/plain": [
       "['jlanger',\n",
       " 'rponting',\n",
       " 'mhussey',\n",
       " 'ssmith',\n",
       " 'agilchrist',\n",
       " 'asymonds',\n",
       " 'mclarke',\n",
       " 'abitchell',\n",
       " 'blee',\n",
       " 'mstark',\n",
       " 'gmcgrath']"
      ]
     },
     "execution_count": 79,
     "metadata": {},
     "output_type": "execute_result"
    }
   ],
   "source": [
    "match.inn[1].team_list"
   ]
  },
  {
   "cell_type": "code",
   "execution_count": 120,
   "metadata": {},
   "outputs": [
    {
     "data": {
      "text/plain": [
       "'mhussey'"
      ]
     },
     "execution_count": 120,
     "metadata": {},
     "output_type": "execute_result"
    }
   ],
   "source": [
    "pl = match.inn[1].team_list[2]\n",
    "pl"
   ]
  },
  {
   "cell_type": "code",
   "execution_count": null,
   "metadata": {
    "scrolled": true
   },
   "outputs": [],
   "source": []
  },
  {
   "cell_type": "code",
   "execution_count": 121,
   "metadata": {},
   "outputs": [],
   "source": [
    "p = Player(pl, match.inn[1].bt_team)"
   ]
  },
  {
   "cell_type": "code",
   "execution_count": 122,
   "metadata": {},
   "outputs": [
    {
     "data": {
      "text/plain": [
       "{0: 0.5208333333333334,\n",
       " 1: 0.23674242424242423,\n",
       " 2: 0.0946969696969697,\n",
       " 3: 0.004734848484848485,\n",
       " 4: 0.0946969696969697,\n",
       " 5: 0.000946969696969697,\n",
       " 6: 0.04734848484848485}"
      ]
     },
     "execution_count": 122,
     "metadata": {},
     "output_type": "execute_result"
    },
    {
     "data": {
      "text/plain": [
       "{0: 0.9991, 1: 0.0009}"
      ]
     },
     "execution_count": 122,
     "metadata": {},
     "output_type": "execute_result"
    }
   ],
   "source": [
    "p.runs_proba\n",
    "p.wkts_proba"
   ]
  },
  {
   "cell_type": "code",
   "execution_count": 123,
   "metadata": {},
   "outputs": [
    {
     "name": "stdout",
     "output_type": "stream",
     "text": [
      "Out! Fall of Wicket\n"
     ]
    },
    {
     "data": {
      "text/plain": [
       "{72: 61}"
      ]
     },
     "execution_count": 123,
     "metadata": {},
     "output_type": "execute_result"
    }
   ],
   "source": [
    "# {b: p.simulateScore(wkts=0, balls=b, runs_proba=p.runs_proba, wkts_proba=p.wkts_proba) for b in range(1,20) if p.simulateScore(wkts=0, balls=b, runs_proba=p.runs_proba, wkts_proba=p.wkts_proba) != -1}\n",
    "for b in range(1,300): \n",
    "    run_in_ball = p.simulateScore(wkts=0, balls=b, runs_proba=p.runs_proba, wkts_proba=p.wkts_proba)\n",
    "    if run_in_ball == -1:\n",
    "        print('Out! Fall of Wicket')\n",
    "        break;\n",
    "#     else:\n",
    "#         {b: run_in_ball}\n",
    "#         p.bt_runs\n",
    "#         f\"run in this ball: {run_in_ball}\"\n",
    "#         f\"{'-'*5} Runs Probability {'-'*5}\"\n",
    "#         p.runs_proba\n",
    "{p.bt_balls: p.bt_runs}     "
   ]
  },
  {
   "cell_type": "code",
   "execution_count": null,
   "metadata": {},
   "outputs": [],
   "source": []
  },
  {
   "cell_type": "code",
   "execution_count": null,
   "metadata": {},
   "outputs": [],
   "source": []
  },
  {
   "cell_type": "code",
   "execution_count": null,
   "metadata": {},
   "outputs": [],
   "source": []
  },
  {
   "cell_type": "markdown",
   "metadata": {},
   "source": [
    "# Initialize Teams"
   ]
  },
  {
   "cell_type": "code",
   "execution_count": null,
   "metadata": {},
   "outputs": [],
   "source": [
    "team_list = {tn: Team(tn) for tn in match.teams}\n",
    "team_list.keys()"
   ]
  },
  {
   "cell_type": "code",
   "execution_count": null,
   "metadata": {},
   "outputs": [],
   "source": [
    "list(team_list[match.first_bt_team].players_obj_list.keys())"
   ]
  },
  {
   "cell_type": "code",
   "execution_count": null,
   "metadata": {},
   "outputs": [],
   "source": []
  },
  {
   "cell_type": "code",
   "execution_count": null,
   "metadata": {},
   "outputs": [],
   "source": []
  },
  {
   "cell_type": "code",
   "execution_count": null,
   "metadata": {},
   "outputs": [],
   "source": []
  },
  {
   "cell_type": "markdown",
   "metadata": {},
   "source": [
    "# Test Simulation"
   ]
  },
  {
   "cell_type": "code",
   "execution_count": null,
   "metadata": {},
   "outputs": [],
   "source": [
    "def simulate_score(wkts, balls, runs_proba, wkts_proba):\n",
    "    \n",
    "    balls += 1\n",
    "    wkts_in_ball = np.random.choice(a = list(wkts_proba.keys()), p = pd.Series(list(wkts_proba.values())))\n",
    "    if wkts_in_ball:\n",
    "        wkts += 1\n",
    "        run_in_ball = -1\n",
    "        runs_proba = reset_runs_proba()\n",
    "    else: \n",
    "        run_in_ball = np.random.choice(a = list(runs_proba.keys()), p = pd.Series(list(runs_proba.values())))\n",
    "        \n",
    "        # runs proba updated as per run scored in prev ball\n",
    "        for k, v in list(runs_proba.items()):\n",
    "            if k == run_in_ball:\n",
    "                if run_in_ball == 0:\n",
    "                    runs_proba[k] = v*1.05\n",
    "                else:\n",
    "                    runs_proba[k] = v*1.2\n",
    "            elif k > run_in_ball:\n",
    "                runs_proba[k] = v*1.01\n",
    "            else:\n",
    "                runs_proba[k] = v\n",
    "        \n",
    "        dict_sum = pd.Series(list(runs_proba.values())).sum()\n",
    "        runs_proba = {k: v/dict_sum for k, v in list(runs_proba.items())}  # normalize so sum of proba = 1\n",
    "    \n",
    "    return (wkts, wkts_in_ball, run_in_ball, balls, runs_proba, wkts_proba)"
   ]
  },
  {
   "cell_type": "code",
   "execution_count": null,
   "metadata": {},
   "outputs": [],
   "source": [
    "def run_bkts(ball_run_dict):\n",
    "    temp_df = pd.Series(list(ball_run_dict.values())).to_frame()\n",
    "    temp_df.columns = ['runs']\n",
    "\n",
    "    score_df = temp_df['runs'].value_counts().to_frame()\n",
    "    score_df['score'] = score_df.index\n",
    "    score_df['run_sum'] = score_df['score'] * score_df['runs']\n",
    "\n",
    "    return score_df"
   ]
  },
  {
   "cell_type": "code",
   "execution_count": null,
   "metadata": {
    "scrolled": true
   },
   "outputs": [],
   "source": [
    "def innings_simulator():\n",
    "    wkts = 0\n",
    "    balls = 0\n",
    "    runs = 0\n",
    "    ball_run_dict = {}\n",
    "    ball_wkt_dict = {}\n",
    "\n",
    "    wkts_proba = reset_wkts_proba()\n",
    "    runs_proba = reset_runs_proba()\n",
    "    \n",
    "    while wkts <= 10: \n",
    "        if balls >= 300:\n",
    "            break\n",
    "        else:\n",
    "            wkts, wkts_in_ball, run_in_ball, balls, runs_proba, wkts_proba = simulate_score(wkts, balls, runs_proba, wkts_proba)\n",
    "            ball_run_dict[balls] = run_in_ball\n",
    "            ball_wkt_dict[balls] = wkts_in_ball\n",
    "    #         f\"balls: {balls} | wkts: {wkts} | run: {run_in_ball}\"\n",
    "            runs += run_in_ball if run_in_ball != -1 else 0\n",
    "    print(f\"overall runs: {runs}\")\n",
    "    print(f\"balls: {balls}\")\n",
    "    print(f\"wkts: {pd.Series(list(ball_wkt_dict.values())).sum()}\")\n",
    "    \n",
    "    return run_bkts(ball_run_dict), ball_run_dict"
   ]
  },
  {
   "cell_type": "code",
   "execution_count": null,
   "metadata": {},
   "outputs": [],
   "source": [
    "score_df, ball_run_dict = innings_simulator()\n",
    "score_df"
   ]
  },
  {
   "cell_type": "code",
   "execution_count": null,
   "metadata": {},
   "outputs": [],
   "source": []
  },
  {
   "cell_type": "code",
   "execution_count": null,
   "metadata": {},
   "outputs": [],
   "source": []
  },
  {
   "cell_type": "code",
   "execution_count": null,
   "metadata": {},
   "outputs": [],
   "source": []
  },
  {
   "cell_type": "code",
   "execution_count": null,
   "metadata": {},
   "outputs": [],
   "source": [
    "runs_proba = reset_runs_proba()\n",
    "runs_proba"
   ]
  },
  {
   "cell_type": "code",
   "execution_count": null,
   "metadata": {},
   "outputs": [],
   "source": [
    "f\"{'-'*5} Initial prob {'-'*5}\"\n",
    "{k: round(v, 2) for k, v in list(runs_proba.items())}\n",
    "run_in_ball = np.random.choice(a = list(runs_proba.keys()), p = pd.Series(list(runs_proba.values())))\n",
    "run_in_ball\n",
    "runs_proba = {k: v*1.05 if run_in_ball == 0 else v*1.3 if run_in_ball<=k else v for k, v in runs_proba.items()}\n",
    "f\"{'-'*5} After update prob {'-'*5}\"\n",
    "{k: round(v, 2) for k, v in list(runs_proba.items())}\n",
    "dict_sum = pd.Series(list(runs_proba.values())).sum()\n",
    "runs_proba = {k: v/dict_sum for k, v in list(runs_proba.items())}  # normalize so sum of proba = 1\n",
    "f\"{'-'*5} Normalized prob {'-'*5}\"\n",
    "{k: round(v, 2) for k, v in list(runs_proba.items())}"
   ]
  },
  {
   "cell_type": "code",
   "execution_count": null,
   "metadata": {},
   "outputs": [],
   "source": []
  }
 ],
 "metadata": {
  "kernelspec": {
   "display_name": "Python 3",
   "language": "python",
   "name": "python3"
  },
  "language_info": {
   "codemirror_mode": {
    "name": "ipython",
    "version": 3
   },
   "file_extension": ".py",
   "mimetype": "text/x-python",
   "name": "python",
   "nbconvert_exporter": "python",
   "pygments_lexer": "ipython3",
   "version": "3.8.3"
  }
 },
 "nbformat": 4,
 "nbformat_minor": 4
}
