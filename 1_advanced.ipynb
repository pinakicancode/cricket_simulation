{
 "cells": [
  {
   "cell_type": "markdown",
   "metadata": {},
   "source": [
    "# Cricket Simulator\n",
    "1. Database search & get data\n",
    "2. EDA\n",
    "3. EDA Plots\n",
    "4. Simulator for scores"
   ]
  },
  {
   "cell_type": "code",
   "execution_count": 1,
   "metadata": {},
   "outputs": [],
   "source": [
    "import numpy as np\n",
    "import pandas as pd\n",
    "\n",
    "import matplotlib.pyplot as plt\n",
    "\n",
    "%matplotlib inline"
   ]
  },
  {
   "cell_type": "code",
   "execution_count": 2,
   "metadata": {},
   "outputs": [],
   "source": [
    "from IPython.core.interactiveshell import InteractiveShell\n",
    "InteractiveShell.ast_node_interactivity = \"all\""
   ]
  },
  {
   "cell_type": "markdown",
   "metadata": {},
   "source": [
    "# Global Variables & functions"
   ]
  },
  {
   "cell_type": "code",
   "execution_count": 3,
   "metadata": {},
   "outputs": [],
   "source": [
    "p_names = {\n",
    "    'ind': {\n",
    "        'bt': ['rsharma', 'klrahul', 'vkohli', 'arahane', 'stendulkar', 'rdravid', 'sganguly'], \n",
    "        'wk': ['dhoni'], 'all': ['hpandya', 'jadeja', 'kpandya', 'ysingh'], \n",
    "        'bl': ['bkumar', 'rashwin', 'mdshami', 'bumrah', 'akumble', 'hsingh', 'isharma', 'zkhan', 'anehra']\n",
    "    }, \n",
    "           \n",
    "    'aus': {\n",
    "        'bt': ['mhayden', 'rponting', 'mhussey', 'jlanger', 'ssmith'], \n",
    "        'wk': ['agilchrist'], 'all': ['symonds', 'abitchell'], \n",
    "        'bl': ['swarne', 'mmarsh', 'blee', 'gmcgrath']\n",
    "    }, \n",
    "    \n",
    "    'saf': {\n",
    "        'bt': ['gkirsten', 'bdipenner', 'abdevilliers', 'hgibbs', 'faulkner', 'gsmith'], \n",
    "        'wk': ['mboucher'], 'all': ['spollock', 'kallis'], \n",
    "        'bl': ['adonald', 'mntini', 'dsteyn']\n",
    "    }, \n",
    "    \n",
    "    'win': {\n",
    "        'bt': ['cgayle', 'whinds', 'blara', 'schanderpaul'], \n",
    "        'wk': ['keepr'], 'all': ['pollard', 'bravo'], \n",
    "        'bl': ['bkumar', 'rashwin', 'mdshami', 'bumrah']\n",
    "    }, \n",
    "    \n",
    "    'sri': {\n",
    "        'bt': ['kaluwithrana', 'atapattu', 'jayavardene'], \n",
    "        'wk': ['sangakara'], 'all': ['jayasuriya', 'adesilva'], \n",
    "        'bl': ['cvaas', 'murali', 'fernando', 'yokumar']\n",
    "    }\n",
    "          }"
   ]
  },
  {
   "cell_type": "code",
   "execution_count": 38,
   "metadata": {},
   "outputs": [],
   "source": [
    "def reset_wkts_proba(p_skill = 'bl'):\n",
    "    temp_proba = {\n",
    "        0: 0.96, 1: 0.04} if p_skill=='bl' else {\n",
    "        0: 0.991, 1: 0.009} if p_skill=='all' else {\n",
    "        0: 0.9991, 1: 0.0009} if p_skill == 'bt' else {\n",
    "        0: 0.9999, 1: 0.0001}\n",
    "    dict_sum = pd.Series(list(temp_proba.values())).sum()\n",
    "    return {k: v/dict_sum for k, v in list(temp_proba.items())}  # normalize so sum of proba = 1"
   ]
  },
  {
   "cell_type": "code",
   "execution_count": 43,
   "metadata": {},
   "outputs": [],
   "source": [
    "def reset_runs_proba(p_skill = 'bt'):\n",
    "    temp_proba = {\n",
    "    0: 0.55, 1: 0.25, 2: 0.1, 3: 0.005, 4: 0.1, 5: 0.001, 6: 0.05} if p_skill=='bt' else {\n",
    "    0: 0.65, 1: 0.22, 2: 0.1, 3: 0.005, 4: 0.1, 5: 0.001, 6: 0.10} if p_skill=='all' else {\n",
    "    0: 0.70, 1: 0.20, 2: 0.1, 3: 0.005, 4: 0.15, 5: 0.001, 6: 0.15} if p_skill == 'wk' else {\n",
    "    0: 0.80, 1: 0.1, 2: 0.1, 3: 0.005, 4: 0.1, 5: 0.001, 6: 0.15}\n",
    "    dict_sum = pd.Series(list(temp_proba.values())).sum()\n",
    "    return {k: v/dict_sum for k, v in list(temp_proba.items())}  # normalize so sum of proba = 1"
   ]
  },
  {
   "cell_type": "markdown",
   "metadata": {},
   "source": [
    "# Class Definitions"
   ]
  },
  {
   "cell_type": "markdown",
   "metadata": {},
   "source": [
    "### Team Class"
   ]
  },
  {
   "cell_type": "code",
   "execution_count": 6,
   "metadata": {},
   "outputs": [],
   "source": [
    "class Team():\n",
    "    '''\n",
    "    Class of Team object\n",
    "    Attributes like team name, matches played, wins, etc. \n",
    "    will be part of this class\n",
    "    '''\n",
    "    \n",
    "    def_compos = {'bt': 4, 'wk': 1, 'all': 2, 'bl': 4}\n",
    "    \n",
    "    def __init__(self, team_name):\n",
    "        self.team_name = team_name\n",
    "        self.m_played = 0\n",
    "        self.m_wins = 0\n",
    "        self.team_compos = Team.def_compos\n",
    "        self.players = self.generate_team()\n",
    "        \n",
    "        \n",
    "    def generate_team(self):\n",
    "        curr_team = {skill: list(np.random.choice(p_names[self.team_name][skill], self.team_compos[skill]))\n",
    "                     for skill in ['bt', 'wk', 'all', 'bl']}\n",
    "        self.players_obj_list = {curr_team[sk][i]: Player(p_name = curr_team[sk][i], p_skill = sk) for sk in ['bt', 'wk', 'all', 'bl'] for i in range(len(curr_team[sk]))}      \n",
    "        return curr_team\n",
    "    \n",
    "    \n",
    "    def update_team_comp(self, sk_bt = None, sk_wk = None, sk_all = None, sk_bl = None):\n",
    "        \n",
    "        if sk_bt != None:\n",
    "            sk_bt = self.team_compos['bt']\n",
    "        if sk_wk != None:\n",
    "            sk_wk = self.team_compos['wk']\n",
    "        if sk_all != None:\n",
    "            sk_all = self.team_compos['all']\n",
    "        if sk_bl != None:\n",
    "            sk_bl = self.team_compos['bl']\n",
    "        \n",
    "        # check for sum = 11\n",
    "        pl_in_team = sk_bt + sk_wk + sk_all + sk_bl\n",
    "        if pl_in_team != 11:\n",
    "            print(f\"Count of players NOT equal to 11\")\n",
    "        else:\n",
    "            self.team_compos['bt'] = sk_bt\n",
    "            self.team_compos['wk'] = sk_wk\n",
    "            self.team_compos['all'] = sk_all\n",
    "            self.team_compos['bl'] = sk_bl\n",
    "            \n",
    "            # regenerate team with new comp only if update is correct\n",
    "            self.players = self.generate_team()  \n",
    "    "
   ]
  },
  {
   "cell_type": "markdown",
   "metadata": {},
   "source": [
    "### Player Class "
   ]
  },
  {
   "cell_type": "code",
   "execution_count": 8,
   "metadata": {},
   "outputs": [],
   "source": [
    "class Player():\n",
    "    '''\n",
    "    Class of Player object\n",
    "    Attributes like player name, matches played, runs, wickets, wins, etc. \n",
    "    will be part of this class\n",
    "    '''\n",
    "    \n",
    "#     wkts_proba = reset_wkts_proba()\n",
    "#     runs_proba = reset_runs_proba()\n",
    "    \n",
    "    def __init__(self, p_name, p_skill):\n",
    "        self.p_name = p_name\n",
    "        self.p_skill = p_skill  # batsman, bowler, wk\n",
    "        self.m_played = 0\n",
    "        self.bt_runs = 0\n",
    "        self.bt_balls = 0\n",
    "        self.bl_wkts = 0\n",
    "        self.bl_runs = 0\n",
    "        self.bl_balls = 0\n",
    "        self.m_wins = 0\n",
    "        self.runs_proba = reset_runs_proba(p_skill)\n",
    "        self.wkts_proba = reset_wkts_proba(p_skill)\n",
    "    \n",
    "    def updateRunProba(self, run_in_ball):\n",
    "        '''\n",
    "        probability at which player scores runs\n",
    "        default: reset_runs_proba(p_skill)\n",
    "        '''\n",
    "        pass\n",
    "        \n",
    "        \n",
    "    def update_bt_runs(self):\n",
    "        pass\n",
    "    \n",
    "    \n",
    "    def update_bt_balls(self):\n",
    "        pass\n",
    "    \n",
    "    \n",
    "    def update_bl_wkts(self):\n",
    "        pass\n",
    "    \n",
    "    \n",
    "    def update_bl_runs(self):\n",
    "        pass\n",
    "    \n",
    "    \n",
    "    def update_bl_balls(self):\n",
    "        pass\n",
    "    \n",
    "    \n",
    "    def update_score(self):\n",
    "        pass"
   ]
  },
  {
   "cell_type": "markdown",
   "metadata": {},
   "source": [
    "### Match Class"
   ]
  },
  {
   "cell_type": "code",
   "execution_count": 9,
   "metadata": {},
   "outputs": [],
   "source": [
    "class Match():\n",
    "    '''\n",
    "    Class of Match object\n",
    "    Attributes like teams playing, runs scored, wickets taken, etc. \n",
    "    will be part of this class\n",
    "    '''\n",
    "    match_cnt = 0\n",
    "    match_dict = {}\n",
    "    \n",
    "    def __init__(self, team1, team2):\n",
    "        Match.match_cnt += 1\n",
    "        Match.match_dict[Match.match_cnt] = [team1, team2]\n",
    "        self.teams = [team1, team2]\n",
    "        self.first_bt_team = np.random.choice(self.teams, 1)[0]\n",
    "        self.second_bt_team = list(set(self.teams).difference(set(self.bt_team)))[0]\n",
    "        "
   ]
  },
  {
   "cell_type": "markdown",
   "metadata": {},
   "source": [
    "### Innings Class"
   ]
  },
  {
   "cell_type": "code",
   "execution_count": 10,
   "metadata": {},
   "outputs": [],
   "source": [
    "class Innings(Match):\n",
    "    '''\n",
    "    Class of Innings object\n",
    "    Attributes like runs scored, wickets taken, etc. \n",
    "    will be part of this class\n",
    "    '''\n",
    "    \n",
    "    wkts_proba = {0: 995, 1: 0.005}\n",
    "    runs_proba = {0: 0.6, 1: 0.23, 2: 0.1, 3: 0.005, 4: 0.054, 5: 0.001, 6: 0.01}\n",
    "    \n",
    "    def __init__(self, team1, team2):\n",
    "        \n",
    "        self.bt_team = bt_team\n",
    "        self.bl_team = bl_team\n",
    "        # batting stats\n",
    "        self.runs = 0\n",
    "        self.fours = 0\n",
    "        self.sixes = 0\n",
    "        self.boundary = 0\n",
    "        # bowling stats\n",
    "        self.wkts = 0\n",
    "        self.wide = 0\n",
    "        self.noball = 0\n",
    "        self.bye = 0\n",
    "        self.lbye = 0\n",
    "        \n",
    "    \n",
    "    def simulate_ball(self, legal_flag = True):\n",
    "        if legal_flag:\n",
    "            balls += 1\n",
    "            runs += Match.simulate_run()\n",
    "            if (runs == 4) or (runs == 6):\n",
    "                self.boundary += 1\n",
    "                if runs == 4:\n",
    "                    self.fours += 1\n",
    "                else: \n",
    "                    self.sixes += 1\n",
    "            \n",
    "            \n",
    "    # @ class method\n",
    "    def simulate_run():\n",
    "        run_in_ball = np.random.choice(a = [0, 1, 2, 3, 4, 5, 6], p = pd.Series(list(runs_proba.values())))\n",
    "        return run_in_ball"
   ]
  },
  {
   "cell_type": "markdown",
   "metadata": {},
   "source": [
    "# Initialize Teams"
   ]
  },
  {
   "cell_type": "code",
   "execution_count": 11,
   "metadata": {},
   "outputs": [],
   "source": [
    "team_name = ['ind', 'saf', 'win', 'sri', 'aus']\n",
    "team_list = {tn: Team(tn) for tn in team_name}"
   ]
  },
  {
   "cell_type": "code",
   "execution_count": 12,
   "metadata": {},
   "outputs": [
    {
     "data": {
      "text/plain": [
       "'ind'"
      ]
     },
     "execution_count": 12,
     "metadata": {},
     "output_type": "execute_result"
    },
    {
     "data": {
      "text/plain": [
       "{'bt': ['rdravid', 'klrahul', 'arahane', 'klrahul'],\n",
       " 'wk': ['dhoni'],\n",
       " 'all': ['kpandya', 'jadeja'],\n",
       " 'bl': ['bumrah', 'anehra', 'zkhan', 'hsingh']}"
      ]
     },
     "execution_count": 12,
     "metadata": {},
     "output_type": "execute_result"
    }
   ],
   "source": [
    "TEAMNAME = 'ind'\n",
    "team_list[TEAMNAME].team_name\n",
    "team_list[TEAMNAME].players"
   ]
  },
  {
   "cell_type": "code",
   "execution_count": 13,
   "metadata": {
    "scrolled": true
   },
   "outputs": [
    {
     "data": {
      "text/plain": [
       "dict_keys(['rdravid', 'klrahul', 'arahane', 'dhoni', 'kpandya', 'jadeja', 'bumrah', 'anehra', 'zkhan', 'hsingh'])"
      ]
     },
     "execution_count": 13,
     "metadata": {},
     "output_type": "execute_result"
    }
   ],
   "source": [
    "team_list[TEAMNAME].players_obj_list.keys()"
   ]
  },
  {
   "cell_type": "code",
   "execution_count": 14,
   "metadata": {},
   "outputs": [
    {
     "data": {
      "text/plain": [
       "'dhoni'"
      ]
     },
     "execution_count": 14,
     "metadata": {},
     "output_type": "execute_result"
    },
    {
     "data": {
      "text/plain": [
       "0"
      ]
     },
     "execution_count": 14,
     "metadata": {},
     "output_type": "execute_result"
    }
   ],
   "source": [
    "PLNAME = list(team_list[TEAMNAME].players_obj_list.keys())[3]\n",
    "team_list[TEAMNAME].players_obj_list[PLNAME].p_name\n",
    "team_list[TEAMNAME].players_obj_list[PLNAME].bt_runs"
   ]
  },
  {
   "cell_type": "code",
   "execution_count": 15,
   "metadata": {},
   "outputs": [
    {
     "data": {
      "text/plain": [
       "dict_keys(['ind', 'saf', 'win', 'sri', 'aus'])"
      ]
     },
     "execution_count": 15,
     "metadata": {},
     "output_type": "execute_result"
    }
   ],
   "source": [
    "team_list.keys()"
   ]
  },
  {
   "cell_type": "markdown",
   "metadata": {},
   "source": [
    "# Test Simulation"
   ]
  },
  {
   "cell_type": "code",
   "execution_count": 19,
   "metadata": {},
   "outputs": [],
   "source": [
    "def simulate_score(wkts, balls, runs_proba, wkts_proba):\n",
    "    \n",
    "    balls += 1\n",
    "    wkts_in_ball = np.random.choice(a = list(wkts_proba.keys()), p = pd.Series(list(wkts_proba.values())))\n",
    "    if wkts_in_ball:\n",
    "        wkts += 1\n",
    "        run_in_ball = -1\n",
    "        runs_proba = reset_runs_proba()\n",
    "    else: \n",
    "        run_in_ball = np.random.choice(a = list(runs_proba.keys()), p = pd.Series(list(runs_proba.values())))\n",
    "        \n",
    "        # runs proba updated as per run scored in prev ball\n",
    "        for k, v in list(runs_proba.items()):\n",
    "            if k == run_in_ball:\n",
    "                if run_in_ball == 0:\n",
    "                    runs_proba[k] = v*1.05\n",
    "                else:\n",
    "                    runs_proba[k] = v*1.2\n",
    "            elif k > run_in_ball:\n",
    "                runs_proba[k] = v*1.01\n",
    "            else:\n",
    "                runs_proba[k] = v\n",
    "        \n",
    "        dict_sum = pd.Series(list(runs_proba.values())).sum()\n",
    "        runs_proba = {k: v/dict_sum for k, v in list(runs_proba.items())}  # normalize so sum of proba = 1\n",
    "    \n",
    "    return (wkts, wkts_in_ball, run_in_ball, balls, runs_proba, wkts_proba)"
   ]
  },
  {
   "cell_type": "code",
   "execution_count": 20,
   "metadata": {},
   "outputs": [],
   "source": [
    "def run_bkts(ball_run_dict):\n",
    "    temp_df = pd.Series(list(ball_run_dict.values())).to_frame()\n",
    "    temp_df.columns = ['runs']\n",
    "\n",
    "    score_df = temp_df['runs'].value_counts().to_frame()\n",
    "    score_df['score'] = score_df.index\n",
    "    score_df['run_sum'] = score_df['score'] * score_df['runs']\n",
    "\n",
    "    return score_df"
   ]
  },
  {
   "cell_type": "code",
   "execution_count": 21,
   "metadata": {
    "scrolled": true
   },
   "outputs": [],
   "source": [
    "def innings_simulator():\n",
    "    wkts = 0\n",
    "    balls = 0\n",
    "    runs = 0\n",
    "    ball_run_dict = {}\n",
    "    ball_wkt_dict = {}\n",
    "\n",
    "    wkts_proba = reset_wkts_proba()\n",
    "    runs_proba = reset_runs_proba()\n",
    "    \n",
    "    while wkts <= 10: \n",
    "        if balls >= 300:\n",
    "            break\n",
    "        else:\n",
    "            wkts, wkts_in_ball, run_in_ball, balls, runs_proba, wkts_proba = simulate_score(wkts, balls, runs_proba, wkts_proba)\n",
    "            ball_run_dict[balls] = run_in_ball\n",
    "            ball_wkt_dict[balls] = wkts_in_ball\n",
    "    #         f\"balls: {balls} | wkts: {wkts} | run: {run_in_ball}\"\n",
    "            runs += run_in_ball if run_in_ball != -1 else 0\n",
    "    print(f\"overall runs: {runs}\")\n",
    "    print(f\"balls: {balls}\")\n",
    "    print(f\"wkts: {pd.Series(list(ball_wkt_dict.values())).sum()}\")\n",
    "    \n",
    "    return run_bkts(ball_run_dict), ball_run_dict"
   ]
  },
  {
   "cell_type": "code",
   "execution_count": 25,
   "metadata": {},
   "outputs": [
    {
     "name": "stdout",
     "output_type": "stream",
     "text": [
      "overall runs: 339\n",
      "balls: 300\n",
      "wkts: 9\n"
     ]
    },
    {
     "data": {
      "text/html": [
       "<div>\n",
       "<style scoped>\n",
       "    .dataframe tbody tr th:only-of-type {\n",
       "        vertical-align: middle;\n",
       "    }\n",
       "\n",
       "    .dataframe tbody tr th {\n",
       "        vertical-align: top;\n",
       "    }\n",
       "\n",
       "    .dataframe thead th {\n",
       "        text-align: right;\n",
       "    }\n",
       "</style>\n",
       "<table border=\"1\" class=\"dataframe\">\n",
       "  <thead>\n",
       "    <tr style=\"text-align: right;\">\n",
       "      <th></th>\n",
       "      <th>runs</th>\n",
       "      <th>score</th>\n",
       "      <th>run_sum</th>\n",
       "    </tr>\n",
       "  </thead>\n",
       "  <tbody>\n",
       "    <tr>\n",
       "      <th>0</th>\n",
       "      <td>148</td>\n",
       "      <td>0</td>\n",
       "      <td>0</td>\n",
       "    </tr>\n",
       "    <tr>\n",
       "      <th>1</th>\n",
       "      <td>82</td>\n",
       "      <td>1</td>\n",
       "      <td>82</td>\n",
       "    </tr>\n",
       "    <tr>\n",
       "      <th>4</th>\n",
       "      <td>27</td>\n",
       "      <td>4</td>\n",
       "      <td>108</td>\n",
       "    </tr>\n",
       "    <tr>\n",
       "      <th>6</th>\n",
       "      <td>20</td>\n",
       "      <td>6</td>\n",
       "      <td>120</td>\n",
       "    </tr>\n",
       "    <tr>\n",
       "      <th>2</th>\n",
       "      <td>13</td>\n",
       "      <td>2</td>\n",
       "      <td>26</td>\n",
       "    </tr>\n",
       "    <tr>\n",
       "      <th>-1</th>\n",
       "      <td>9</td>\n",
       "      <td>-1</td>\n",
       "      <td>-9</td>\n",
       "    </tr>\n",
       "    <tr>\n",
       "      <th>3</th>\n",
       "      <td>1</td>\n",
       "      <td>3</td>\n",
       "      <td>3</td>\n",
       "    </tr>\n",
       "  </tbody>\n",
       "</table>\n",
       "</div>"
      ],
      "text/plain": [
       "    runs  score  run_sum\n",
       " 0   148      0        0\n",
       " 1    82      1       82\n",
       " 4    27      4      108\n",
       " 6    20      6      120\n",
       " 2    13      2       26\n",
       "-1     9     -1       -9\n",
       " 3     1      3        3"
      ]
     },
     "execution_count": 25,
     "metadata": {},
     "output_type": "execute_result"
    }
   ],
   "source": [
    "score_df, ball_run_dict = innings_simulator()\n",
    "score_df"
   ]
  },
  {
   "cell_type": "code",
   "execution_count": null,
   "metadata": {},
   "outputs": [],
   "source": []
  },
  {
   "cell_type": "code",
   "execution_count": null,
   "metadata": {},
   "outputs": [],
   "source": []
  },
  {
   "cell_type": "code",
   "execution_count": null,
   "metadata": {},
   "outputs": [],
   "source": []
  },
  {
   "cell_type": "code",
   "execution_count": null,
   "metadata": {},
   "outputs": [],
   "source": [
    "runs_proba = reset_runs_proba()\n",
    "runs_proba"
   ]
  },
  {
   "cell_type": "code",
   "execution_count": null,
   "metadata": {},
   "outputs": [],
   "source": [
    "f\"{'-'*5} Initial prob {'-'*5}\"\n",
    "{k: round(v, 2) for k, v in list(runs_proba.items())}\n",
    "run_in_ball = np.random.choice(a = list(runs_proba.keys()), p = pd.Series(list(runs_proba.values())))\n",
    "run_in_ball\n",
    "runs_proba = {k: v*1.05 if run_in_ball == 0 else v*1.3 if run_in_ball<=k else v for k, v in runs_proba.items()}\n",
    "f\"{'-'*5} After update prob {'-'*5}\"\n",
    "{k: round(v, 2) for k, v in list(runs_proba.items())}\n",
    "dict_sum = pd.Series(list(runs_proba.values())).sum()\n",
    "runs_proba = {k: v/dict_sum for k, v in list(runs_proba.items())}  # normalize so sum of proba = 1\n",
    "f\"{'-'*5} Normalized prob {'-'*5}\"\n",
    "{k: round(v, 2) for k, v in list(runs_proba.items())}"
   ]
  },
  {
   "cell_type": "code",
   "execution_count": null,
   "metadata": {},
   "outputs": [],
   "source": []
  }
 ],
 "metadata": {
  "kernelspec": {
   "display_name": "Python 3",
   "language": "python",
   "name": "python3"
  },
  "language_info": {
   "codemirror_mode": {
    "name": "ipython",
    "version": 3
   },
   "file_extension": ".py",
   "mimetype": "text/x-python",
   "name": "python",
   "nbconvert_exporter": "python",
   "pygments_lexer": "ipython3",
   "version": "3.8.3"
  }
 },
 "nbformat": 4,
 "nbformat_minor": 4
}
